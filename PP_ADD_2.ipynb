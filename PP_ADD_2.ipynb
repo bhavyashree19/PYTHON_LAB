{
  "nbformat": 4,
  "nbformat_minor": 0,
  "metadata": {
    "colab": {
      "provenance": [],
      "authorship_tag": "ABX9TyNPw0K+KmHvMefyxK7542km",
      "include_colab_link": true
    },
    "kernelspec": {
      "name": "python3",
      "display_name": "Python 3"
    },
    "language_info": {
      "name": "python"
    }
  },
  "cells": [
    {
      "cell_type": "markdown",
      "metadata": {
        "id": "view-in-github",
        "colab_type": "text"
      },
      "source": [
        "<a href=\"https://colab.research.google.com/github/bhavyashree19/PYTHON_LAB/blob/main/PP_ADD_2.ipynb\" target=\"_parent\"><img src=\"https://colab.research.google.com/assets/colab-badge.svg\" alt=\"Open In Colab\"/></a>"
      ]
    },
    {
      "cell_type": "code",
      "execution_count": null,
      "metadata": {
        "colab": {
          "base_uri": "https://localhost:8080/"
        },
        "id": "PjYmxPGeWeiC",
        "outputId": "02de2a63-e789-422f-8d2b-54b448ab1f35"
      },
      "outputs": [
        {
          "output_type": "stream",
          "name": "stdout",
          "text": [
            "3\n"
          ]
        }
      ],
      "source": [
        "#Write a Python program to count the number of strings from a given list of strings such that\n",
        "#the string length is 2 or more and the first and last characters are the same.\n",
        "def count_strings(lst):\n",
        "    count = 0\n",
        "    for string in lst:\n",
        "        if len(string) >= 2 and string[0] == string[-1]:\n",
        "            count += 1\n",
        "    return count\n",
        "lst = [\"hello\", \"world\", \"racecar\", \"python\", \"wow\", \"pop\"]\n",
        "count = count_strings(lst)\n",
        "print(count)  "
      ]
    },
    {
      "cell_type": "code",
      "source": [
        "#Write a Python program to multiply all the items in a list\n",
        "def multiply_list_items(lst):\n",
        "    result = 1\n",
        "    for item in lst:\n",
        "        result *= item\n",
        "    return result\n",
        "my_list = [2, 3, 4, 5]\n",
        "result = multiply_list_items(my_list)\n",
        "print(result)\n"
      ],
      "metadata": {
        "colab": {
          "base_uri": "https://localhost:8080/"
        },
        "id": "JdE-4NUKXYX8",
        "outputId": "9eb75e2a-8950-4e16-c629-e620f0ec0f9a"
      },
      "execution_count": null,
      "outputs": [
        {
          "output_type": "stream",
          "name": "stdout",
          "text": [
            "120\n"
          ]
        }
      ]
    },
    {
      "cell_type": "code",
      "source": [
        "#Write a Python program to remove duplicates from a list.\n",
        "def remove_duplicates(lst):\n",
        "    unique_list = []\n",
        "    for item in lst:\n",
        "        if item not in unique_list:\n",
        "            unique_list.append(item)\n",
        "    return unique_list\n",
        "my_list = [1, 2, 3, 2, 1, 4, 5, 3]\n",
        "unique_list = remove_duplicates(my_list)\n",
        "print(unique_list)\n"
      ],
      "metadata": {
        "colab": {
          "base_uri": "https://localhost:8080/"
        },
        "id": "Sr0VV_N0Xgt9",
        "outputId": "26bd9b1e-7811-4413-eb08-4bd7588956c5"
      },
      "execution_count": null,
      "outputs": [
        {
          "output_type": "stream",
          "name": "stdout",
          "text": [
            "[1, 2, 3, 4, 5]\n"
          ]
        }
      ]
    },
    {
      "cell_type": "code",
      "source": [
        "#Given a list of integers, compute the absolute difference of the sum of all odd\n",
        "#numbers and the sum of all even numbers in the list.\n",
        "def absolute_difference_of_sums(n, lst):\n",
        "    odd_sum = 0\n",
        "    even_sum = 0\n",
        "    for num in lst:\n",
        "        if num % 2 == 0:\n",
        "            even_sum += num\n",
        "        else:\n",
        "            odd_sum += num\n",
        "    return abs(odd_sum - even_sum)\n",
        "n = 4\n",
        "lst = [10, 10, 23, 3]\n",
        "result = absolute_difference_of_sums(n, lst)\n",
        "print(result)\n"
      ],
      "metadata": {
        "colab": {
          "base_uri": "https://localhost:8080/"
        },
        "id": "8Sfl6aDYX2Iv",
        "outputId": "69a846fc-b757-4ab0-a723-df3ea998095b"
      },
      "execution_count": null,
      "outputs": [
        {
          "output_type": "stream",
          "name": "stdout",
          "text": [
            "6\n"
          ]
        }
      ]
    },
    {
      "cell_type": "code",
      "source": [
        "#You are walking through a forest, and keeping track of the coordinates of\n",
        "#checkpoints. Eventually, you decide you would like to turn back and go home. Can\n",
        "#you remember how to get back?\n",
        "def find_checkpoint_coord(n, checkpoints, checkpoint_num, coord):\n",
        "    checkpoint = checkpoints[checkpoint_num]\n",
        "    if coord == 'x':\n",
        "        return checkpoint[0]\n",
        "    elif coord == 'y':\n",
        "        return checkpoint[1]\n",
        "c = int(input())\n",
        "checkpoints = []\n",
        "for i in range(c):\n",
        "    cx, cy = map(int, input().split())\n",
        "    checkpoints.append((cx, cy))\n",
        "q = int(input())\n",
        "for i in range(q):\n",
        "    checkpoint_num, coord = input().split()\n",
        "    checkpoint_num = int(checkpoint_num)\n",
        "    coord_value = find_checkpoint_coord(c, checkpoints, checkpoint_num, coord)\n",
        "    print(coord_value)\n"
      ],
      "metadata": {
        "colab": {
          "base_uri": "https://localhost:8080/"
        },
        "id": "Tj0HQr2kYeM0",
        "outputId": "cf802e42-443c-4272-c4de-c53ad196c938"
      },
      "execution_count": null,
      "outputs": [
        {
          "output_type": "stream",
          "name": "stdout",
          "text": [
            "6\n",
            "-9 2\n",
            "2 7\n",
            "-8 6\n",
            "-7 -9\n",
            "-8 -3\n",
            "-6 0\n",
            "5\n",
            "2 x\n",
            "-8\n",
            "4 x\n",
            "-8\n",
            "3 y\n",
            "-9\n",
            "1 x\n",
            "2\n",
            "3 y\n",
            "-9\n"
          ]
        }
      ]
    },
    {
      "cell_type": "code",
      "source": [
        "'''A standard deviation is a measure of how dispersed the data is in relation to the\n",
        "mean. Write a program that reads N integers from user and find the Standard\n",
        "Deviation of those N elements. The SD is defined as the square root of, the sum of\n",
        "the squared differences between each element and the mean divided by the\n",
        "number of elements.'''\n",
        "import math\n",
        "n = int(input())\n",
        "nums = list(map(int, input().split()))\n",
        "mean = sum(nums) / n\n",
        "sq_diff = sum([(x - mean) ** 2 for x in nums])\n",
        "std_dev = math.sqrt(sq_diff / n)\n",
        "print(\"{:.2f}\".format(std_dev))"
      ],
      "metadata": {
        "colab": {
          "base_uri": "https://localhost:8080/"
        },
        "id": "q4otb5qdZdO0",
        "outputId": "9a96afa7-f7a6-4a72-dea5-9d6e5ce30535"
      },
      "execution_count": null,
      "outputs": [
        {
          "output_type": "stream",
          "name": "stdout",
          "text": [
            "6\n",
            "10 8 10 8 8 4\n",
            "2.00\n"
          ]
        }
      ]
    }
  ]
}