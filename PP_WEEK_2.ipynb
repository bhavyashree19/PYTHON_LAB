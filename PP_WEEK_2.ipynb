{
  "nbformat": 4,
  "nbformat_minor": 0,
  "metadata": {
    "colab": {
      "provenance": [],
      "authorship_tag": "ABX9TyPyJdewEtzmaydHafeXgZoj",
      "include_colab_link": true
    },
    "kernelspec": {
      "name": "python3",
      "display_name": "Python 3"
    },
    "language_info": {
      "name": "python"
    }
  },
  "cells": [
    {
      "cell_type": "markdown",
      "metadata": {
        "id": "view-in-github",
        "colab_type": "text"
      },
      "source": [
        "<a href=\"https://colab.research.google.com/github/bhavyashree19/PYTHON_LAB/blob/main/PP_WEEK_2.ipynb\" target=\"_parent\"><img src=\"https://colab.research.google.com/assets/colab-badge.svg\" alt=\"Open In Colab\"/></a>"
      ]
    },
    {
      "cell_type": "code",
      "execution_count": null,
      "metadata": {
        "colab": {
          "base_uri": "https://localhost:8080/"
        },
        "id": "jD_6HUl2wh8c",
        "outputId": "0c205e19-d86b-4734-8ee6-318428e015a0"
      },
      "outputs": [
        {
          "output_type": "stream",
          "name": "stdout",
          "text": [
            "enter the number of rows:5\n",
            "5\n",
            "\n",
            "44\n",
            "\n",
            "333\n",
            "\n",
            "2222\n",
            "\n",
            "11111\n",
            "\n"
          ]
        }
      ],
      "source": [
        "'''Print the below triangle using for loop.\n",
        "5\n",
        "4 4\n",
        "3 3 3\n",
        "2 2 2 2\n",
        "1 1 1 1 1'''\n",
        "rows=int(input(\"enter the number of rows:\"))\n",
        "for i in range (0,rows):\n",
        "  for j in range (0,i+1):\n",
        "    print(rows,end=\"\")\n",
        "  rows=rows-1\n",
        "  print(\"\\n\")"
      ]
    },
    {
      "cell_type": "code",
      "source": [
        "#Write a program to check whether the given input is digit or lowercase character or\n",
        "#uppercase character or a special character (use &#39;if-else-if&#39; ladder)\n",
        "input_char = input(\"Enter a character: \")\n",
        "if input_char.isdigit():\n",
        "    print(\"Input is a digit\")\n",
        "elif input_char.islower():\n",
        "    print(\"Input is a lowercase character\")\n",
        "elif input_char.isupper():\n",
        "    print(\"Input is an uppercase character\")\n",
        "else:\n",
        "    print(\"Input is a special character\")\n"
      ],
      "metadata": {
        "colab": {
          "base_uri": "https://localhost:8080/"
        },
        "id": "lFyTCP9gx1h_",
        "outputId": "eec7f416-1f06-49ed-8c25-a59e3046b693"
      },
      "execution_count": null,
      "outputs": [
        {
          "output_type": "stream",
          "name": "stdout",
          "text": [
            "Enter a character: 1\n",
            "Input is a digit\n"
          ]
        }
      ]
    },
    {
      "cell_type": "code",
      "source": [
        "#Python Program to Print the Fibonacci sequence using while loop\n",
        "n=int(input(\"enter the value of n:\"))\n",
        "a=0\n",
        "b=1\n",
        "sum=0\n",
        "count=1\n",
        "print(\"fibonacci series:\",end=\" \")\n",
        "while(count<=n):\n",
        "  print(sum,end=\" \")\n",
        "  count+=1\n",
        "  a=b\n",
        "  b=sum\n",
        "  sum=a+b\n",
        "\n"
      ],
      "metadata": {
        "colab": {
          "base_uri": "https://localhost:8080/"
        },
        "id": "FIZh6Aal194W",
        "outputId": "03b4761d-88dc-4506-b5b2-0cdf59bfc82e"
      },
      "execution_count": null,
      "outputs": [
        {
          "output_type": "stream",
          "name": "stdout",
          "text": [
            "enter the value of n:7\n",
            "fibonacci series: 0 1 1 2 3 5 8 "
          ]
        }
      ]
    },
    {
      "cell_type": "code",
      "source": [
        "#Python program to print all prime numbers in a given interval (use break)\n",
        "lower_value=int(input(\"enter the lowest range value:\"))\n",
        "higher_value=int(input(\"enter the highest range value:\"))\n",
        "print(\"the prime numbers in the range are:\")\n",
        "for number in range(lower_value,higher_value+1):\n",
        "  if number > 1:\n",
        "    for i in range(2,number):\n",
        "      if number%i==0:\n",
        "        break\n",
        "    else:\n",
        "      print(number)\n"
      ],
      "metadata": {
        "colab": {
          "base_uri": "https://localhost:8080/"
        },
        "id": "OgEHWZQY3jnM",
        "outputId": "d92267d6-61df-46fc-8f26-2de4f20d2f8a"
      },
      "execution_count": null,
      "outputs": [
        {
          "output_type": "stream",
          "name": "stdout",
          "text": [
            "enter the lowest range value:40\n",
            "enter the highest range value:50\n",
            "the prime numbers in the range are:\n",
            "41\n",
            "43\n",
            "47\n"
          ]
        }
      ]
    },
    {
      "cell_type": "code",
      "source": [
        "#Write a Python program to check whether number is positive,negative or zero\n",
        "n=float(input(\"input a number\"))\n",
        "if n>=0:\n",
        "  if n==0:\n",
        "    print(\"it is zero!\")\n",
        "  else:\n",
        "    print(\"number is a positive number\")\n",
        "else:\n",
        "  print(\"number is a negative number\")\n"
      ],
      "metadata": {
        "colab": {
          "base_uri": "https://localhost:8080/"
        },
        "id": "d2RWghxi6Ntg",
        "outputId": "691c26a7-fca6-4ab5-9a1c-e7bcfa48bc7f"
      },
      "execution_count": null,
      "outputs": [
        {
          "output_type": "stream",
          "name": "stdout",
          "text": [
            "input a number-30\n",
            "number is a negative number\n"
          ]
        }
      ]
    },
    {
      "cell_type": "code",
      "source": [
        "#Write a Python program to check whether the given input is in the given range\n",
        "def test_range(n):\n",
        "  if n in range(3,9):\n",
        "    print(\"%s is in the range\"%str(n))\n",
        "  else:\n",
        "    print(\"the number is outside the given range\")\n",
        "test_range(0)"
      ],
      "metadata": {
        "colab": {
          "base_uri": "https://localhost:8080/"
        },
        "id": "-Oe-wvwb6ikn",
        "outputId": "6e356b5a-755b-4d23-f81e-46ab332bd018"
      },
      "execution_count": null,
      "outputs": [
        {
          "output_type": "stream",
          "name": "stdout",
          "text": [
            "the number is outside the given range\n"
          ]
        }
      ]
    },
    {
      "cell_type": "code",
      "source": [
        "#Write a Python program to find the largest among 3 numbers take numbers using multiple assignment\n",
        "num1=float(input(\"enter the first number:\"))\n",
        "num2=float(input(\"enter the second number:\"))\n",
        "num3=float(input(\"enter the third number:\"))\n",
        "if(num1>=num2) and (num1>=num3):\n",
        "  largest=num1\n",
        "elif (num2>=num1) and (num2>=num3):\n",
        "  largest=num2\n",
        "else:\n",
        "  largest=num3\n",
        "print(\"The largest number is\",largest)"
      ],
      "metadata": {
        "colab": {
          "base_uri": "https://localhost:8080/"
        },
        "id": "xeXpHIczBLgZ",
        "outputId": "5851bdf3-87ed-40b7-e606-77d8cf381d59"
      },
      "execution_count": null,
      "outputs": [
        {
          "output_type": "stream",
          "name": "stdout",
          "text": [
            "enter the first number:0.5\n",
            "enter the second number:2.6\n",
            "enter the third number:6.6\n",
            "The largest number is 6.6\n"
          ]
        }
      ]
    },
    {
      "cell_type": "code",
      "source": [
        "#Write a Python program to print FIZZ when a num is divisible by 3 and BUZZ when the num\n",
        "#is divisible by 5 and FIZZ BUZZ when divisible by both\n",
        "for num in range (1,6):\n",
        "  if (num%3==0 and num%5==0):\n",
        "    print(\"FIZZBUZZ\")\n",
        "  elif (num%3==0):\n",
        "    print(\"FIZZ\")\n",
        "  elif (num%5==0):\n",
        "    print(\"BUZZ\")\n",
        "  else:\n",
        "    print(num)"
      ],
      "metadata": {
        "colab": {
          "base_uri": "https://localhost:8080/"
        },
        "id": "2h90N3iZCqwg",
        "outputId": "018fb6bf-bc87-4c67-bb8d-45036f3c1ea4"
      },
      "execution_count": null,
      "outputs": [
        {
          "output_type": "stream",
          "name": "stdout",
          "text": [
            "1\n",
            "2\n",
            "FIZZ\n",
            "4\n",
            "BUZZ\n"
          ]
        }
      ]
    },
    {
      "cell_type": "code",
      "source": [
        "#Implement a program to print grades based on Percentage.\n",
        "percentage=float(input(\"enter percentage:\"))\n",
        "if percentage>=90:\n",
        "  grade=\"A+\"\n",
        "elif percentage>=80:\n",
        "  grade=\"A\"\n",
        "elif percentage>=70:\n",
        "  grade=\"B\"\n",
        "elif percentage>=60:\n",
        "  grade=\"C\"\n",
        "elif percentage>=50:\n",
        "  grade=\"D\"\n",
        "else:\n",
        "  grade=\"F\"\n",
        "print(\"grade:\",grade)"
      ],
      "metadata": {
        "colab": {
          "base_uri": "https://localhost:8080/"
        },
        "id": "9O8wCye2DpnH",
        "outputId": "5c84a6de-a303-4f0c-afef-b969cc0b3878"
      },
      "execution_count": null,
      "outputs": [
        {
          "output_type": "stream",
          "name": "stdout",
          "text": [
            "enter percentage:80\n",
            "grade: A\n"
          ]
        }
      ]
    },
    {
      "cell_type": "code",
      "source": [
        "#Write a Python program print a of values where the values are square of numbers between 1\n",
        "#and 20 (both included).\n",
        "def printvalues():\n",
        "  l=list()\n",
        "  for i in range(1,21):\n",
        "    l.append(i**2)\n",
        "  print(l)\n",
        "printvalues()"
      ],
      "metadata": {
        "colab": {
          "base_uri": "https://localhost:8080/"
        },
        "id": "Ctq8lzf1FQSb",
        "outputId": "eb5d4f84-b73a-445f-c2ab-70a9a59073c1"
      },
      "execution_count": null,
      "outputs": [
        {
          "output_type": "stream",
          "name": "stdout",
          "text": [
            "[1, 4, 9, 16, 25, 36, 49, 64, 81, 100, 121, 144, 169, 196, 225, 256, 289, 324, 361, 400]\n"
          ]
        }
      ]
    },
    {
      "cell_type": "code",
      "source": [
        "#Program to find the sum of the digits of a number\n",
        "num=input(\"enter number:\")\n",
        "sum=0\n",
        "for i in num:\n",
        "  sum=sum+int(i)\n",
        "print(sum)"
      ],
      "metadata": {
        "colab": {
          "base_uri": "https://localhost:8080/"
        },
        "id": "trLA5HGEF9QT",
        "outputId": "c2ccbd7e-dfe5-4f35-f2b8-a5ee8469d92b"
      },
      "execution_count": null,
      "outputs": [
        {
          "output_type": "stream",
          "name": "stdout",
          "text": [
            "enter number:20\n",
            "2\n"
          ]
        }
      ]
    },
    {
      "cell_type": "code",
      "source": [
        "#Check whether a number is palindrome or not\n",
        "num=int(input(\"enter a number:\"))\n",
        "temp=num\n",
        "rev=0\n",
        "while(num>0):\n",
        "  dig=num%10\n",
        "  rev=rev*10+dig\n",
        "  num=num//10\n",
        "if(temp==rev):\n",
        "  print(\"the number is palindrome!\")\n",
        "else:\n",
        "  print(\"the number is not palindrome!\")"
      ],
      "metadata": {
        "colab": {
          "base_uri": "https://localhost:8080/"
        },
        "id": "dsQjPeSEGSqN",
        "outputId": "8ca320b2-a010-4569-fc50-d012dbbf3986"
      },
      "execution_count": null,
      "outputs": [
        {
          "output_type": "stream",
          "name": "stdout",
          "text": [
            "enter a number:14541\n",
            "the number is palindrome!\n"
          ]
        }
      ]
    }
  ]
}