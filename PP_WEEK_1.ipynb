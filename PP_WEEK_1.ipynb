{
  "nbformat": 4,
  "nbformat_minor": 0,
  "metadata": {
    "colab": {
      "provenance": [],
      "authorship_tag": "ABX9TyMo78TJlBSHsdGHiZCEaiQ9",
      "include_colab_link": true
    },
    "kernelspec": {
      "name": "python3",
      "display_name": "Python 3"
    },
    "language_info": {
      "name": "python"
    }
  },
  "cells": [
    {
      "cell_type": "markdown",
      "metadata": {
        "id": "view-in-github",
        "colab_type": "text"
      },
      "source": [
        "<a href=\"https://colab.research.google.com/github/bhavyashree19/PYTHON_LAB/blob/main/PP_WEEK_1.ipynb\" target=\"_parent\"><img src=\"https://colab.research.google.com/assets/colab-badge.svg\" alt=\"Open In Colab\"/></a>"
      ]
    },
    {
      "cell_type": "code",
      "execution_count": null,
      "metadata": {
        "colab": {
          "base_uri": "https://localhost:8080/"
        },
        "id": "YcOhFiUmccZX",
        "outputId": "ad301aeb-5964-4e8b-aff9-9428764a8a00"
      },
      "outputs": [
        {
          "output_type": "stream",
          "name": "stdout",
          "text": [
            "enter the first number:6\n",
            "enter the second number:4\n",
            "sum is  10\n",
            "difference is  2\n",
            "product is  24\n",
            "division is  1.5\n",
            "mod is  2\n"
          ]
        }
      ],
      "source": [
        "#Start a Python interpreter and use it as a Calculator\n",
        "a=int(input(\"enter the first number:\"))\n",
        "b=int(input(\"enter the second number:\"))\n",
        "print(\"sum is \",a+b)\n",
        "print(\"difference is \",a-b)\n",
        "print(\"product is \",a*b)\n",
        "print(\"division is \",a/b)\n",
        "print(\"mod is \",a%b)"
      ]
    },
    {
      "cell_type": "code",
      "source": [
        "#Read name, address, email and phone number of a person through keyboard and print the details\n",
        "n=str(input(\"enter the name:\"))\n",
        "m=str(input(\"enter the address:\"))\n",
        "o=str(input(\"enter the email:\"))\n",
        "p=str(input(\"enter the phone number:\"))\n",
        "print(n)\n",
        "print(m)\n",
        "print(o)\n",
        "print(p)"
      ],
      "metadata": {
        "colab": {
          "base_uri": "https://localhost:8080/"
        },
        "id": "xGZn2BvbpL35",
        "outputId": "206c815c-9a88-4769-a5bc-29fd7498dd14"
      },
      "execution_count": null,
      "outputs": [
        {
          "output_type": "stream",
          "name": "stdout",
          "text": [
            "enter the name:bhavya\n",
            "enter the address:7/3rt panjagutta\n",
            "enter the email:22wh1a1292@bvrith.edu.in\n",
            "enter the phone number:8328646718\n",
            "bhavya\n",
            "7/3rt panjagutta\n",
            "22wh1a1292@bvrith.edu.in\n",
            "8328646718\n"
          ]
        }
      ]
    },
    {
      "cell_type": "code",
      "source": [
        "#Write a program To find the area of circle\n",
        "import math\n",
        "r=int(input(\"enter the radius of the circle:\"))\n",
        "area=math.pi*r*r\n",
        "print(\"area of the circle is {}\".format(area))"
      ],
      "metadata": {
        "colab": {
          "base_uri": "https://localhost:8080/"
        },
        "id": "_GAWLTNQqBJ-",
        "outputId": "762fe6f3-a2a5-4e30-a922-98bc23dcb8cc"
      },
      "execution_count": null,
      "outputs": [
        {
          "output_type": "stream",
          "name": "stdout",
          "text": [
            "enter the radius of the circle:5\n",
            "area of the circle is 78.53981633974483\n"
          ]
        }
      ]
    },
    {
      "cell_type": "code",
      "source": [
        "#Write a program to find the third side of a circle given the other two sides\n",
        "n1=int(input(\"enter the first side:\"))\n",
        "n2=int(input(\"enter the second side:\"))\n",
        "n3=n1+n2\n",
        "print(\"the third side is:\")\n",
        "print(n3)"
      ],
      "metadata": {
        "colab": {
          "base_uri": "https://localhost:8080/"
        },
        "id": "2ZJ4zYjZqcDI",
        "outputId": "fb237284-d990-4716-eb92-ed8333120431"
      },
      "execution_count": null,
      "outputs": [
        {
          "output_type": "stream",
          "name": "stdout",
          "text": [
            "enter the first side:40\n",
            "enter the second side:50\n",
            "the third side is:\n",
            "90\n"
          ]
        }
      ]
    },
    {
      "cell_type": "code",
      "source": [
        "#Write a program to find area of a triangle using herons formula\n",
        "import math\n",
        "a=int(input(\"enter the value of a:\"))\n",
        "b=int(input(\"enter the value of b:\"))\n",
        "c=int(input(\"enter the value of c:\"))\n",
        "s=(a+b+c)/2\n",
        "area=math.sqrt(s*(s-a)*(s-b)*(s-c))\n",
        "print(\"area of the triangle is {}\".format(area))"
      ],
      "metadata": {
        "colab": {
          "base_uri": "https://localhost:8080/"
        },
        "id": "muJBllF5q15A",
        "outputId": "6ca3a37c-d6b6-4ea7-ff95-347de9c01de2"
      },
      "execution_count": null,
      "outputs": [
        {
          "output_type": "stream",
          "name": "stdout",
          "text": [
            "enter the value of a:9\n",
            "enter the value of b:7\n",
            "enter the value of c:8\n",
            "area of the triangle is 26.832815729997478\n"
          ]
        }
      ]
    },
    {
      "cell_type": "code",
      "source": [
        "#Program to enter the marks of 5 subjects of a student. Compute the total and average mark of\n",
        "#the student and display it. Read 5 subjects marks in a single line\n",
        "a,b,c,d,e=[int(a) for a in input(\"enter the marks of the subjects:\").split()]\n",
        "average=(a+b+c+d+e)/5\n",
        "print(\"average of marks is {}\".format(average))"
      ],
      "metadata": {
        "colab": {
          "base_uri": "https://localhost:8080/"
        },
        "id": "H-NnzNn5rlgJ",
        "outputId": "cbc813e3-05aa-43be-9c55-82603eada7c7"
      },
      "execution_count": null,
      "outputs": [
        {
          "output_type": "stream",
          "name": "stdout",
          "text": [
            "enter the marks of the subjects:60 70 80 90 40\n",
            "average of marks is 68.0\n"
          ]
        }
      ]
    },
    {
      "cell_type": "code",
      "source": [
        "#Swap two numbers a) Using temporary variable\n",
        "num1=input(\"enter value of first number:\")\n",
        "num2=input(\"enter value of second number:\")\n",
        "temp=num1\n",
        "num1=num2\n",
        "num2=temp\n",
        "print(\"the value of num1 after swapping:{}\".format(num1))\n",
        "print(\"the value of num2 after swapping:{}\".format(num2))"
      ],
      "metadata": {
        "colab": {
          "base_uri": "https://localhost:8080/"
        },
        "id": "b3nQ01q0tzL4",
        "outputId": "9ad09b88-184c-4eff-9088-1ed3ae9c8324"
      },
      "execution_count": null,
      "outputs": [
        {
          "output_type": "stream",
          "name": "stdout",
          "text": [
            "enter value of first number:2\n",
            "enter value of second number:3\n",
            "the value of num1 after swapping:3\n",
            "the value of num2 after swapping:2\n"
          ]
        }
      ]
    },
    {
      "cell_type": "code",
      "source": [
        "#Swap two numbers b) Without using temporary variable\n",
        "x=int(input(\"enter the value of x:\"))\n",
        "y=int(input(\"enter the value of y:\"))\n",
        "print(\"before swapping:\")\n",
        "print(\"value of x:\",x,\"and y:\",y)\n",
        "x,y=y,x\n",
        "print(\"after swapping\")\n",
        "print(\"value of x\",x,\"and y:\",y)"
      ],
      "metadata": {
        "colab": {
          "base_uri": "https://localhost:8080/"
        },
        "id": "LCHgWS7XuqqA",
        "outputId": "aefa922c-0d22-4238-b191-e6ee937aad1f"
      },
      "execution_count": null,
      "outputs": [
        {
          "output_type": "stream",
          "name": "stdout",
          "text": [
            "enter the value of x:4\n",
            "enter the value of y:7\n",
            "before swapping:\n",
            "value of x: 4 and y: 7\n",
            "after swapping\n",
            "value of x 7 and y: 4\n"
          ]
        }
      ]
    },
    {
      "cell_type": "code",
      "source": [
        "#Program to demonstrate the use of format method to print 4 values a,b,c,d\n",
        "a=int(input(\"enter the value of a:\"))\n",
        "b=int(input(\"enter the value of b:\"))\n",
        "c=int(input(\"enter the value of c:\"))\n",
        "d=int(input(\"enter the value of d:\"))\n",
        "print(\"a is {}\\n b is {}\\n c is {}\\n d is {}\\n\".format(a,b,c,d))"
      ],
      "metadata": {
        "colab": {
          "base_uri": "https://localhost:8080/"
        },
        "id": "zjd_Dh7MvTSr",
        "outputId": "6f019de6-b8ee-4edc-86bc-44e69d8a6e06"
      },
      "execution_count": null,
      "outputs": [
        {
          "output_type": "stream",
          "name": "stdout",
          "text": [
            "enter the value of a:0\n",
            "enter the value of b:20\n",
            "enter the value of c:30\n",
            "enter the value of d:0\n",
            "a is 0\n",
            " b is 20\n",
            " c is 30\n",
            " d is 0\n",
            "\n"
          ]
        }
      ]
    }
  ]
}