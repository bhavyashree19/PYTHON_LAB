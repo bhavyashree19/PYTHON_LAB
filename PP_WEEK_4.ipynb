{
  "nbformat": 4,
  "nbformat_minor": 0,
  "metadata": {
    "colab": {
      "provenance": [],
      "authorship_tag": "ABX9TyN9U7ixM++W3DpcNlco8+ZM",
      "include_colab_link": true
    },
    "kernelspec": {
      "name": "python3",
      "display_name": "Python 3"
    },
    "language_info": {
      "name": "python"
    }
  },
  "cells": [
    {
      "cell_type": "markdown",
      "metadata": {
        "id": "view-in-github",
        "colab_type": "text"
      },
      "source": [
        "<a href=\"https://colab.research.google.com/github/bhavyashree19/PYTHON_LAB/blob/main/PP_WEEK_4.ipynb\" target=\"_parent\"><img src=\"https://colab.research.google.com/assets/colab-badge.svg\" alt=\"Open In Colab\"/></a>"
      ]
    },
    {
      "cell_type": "code",
      "execution_count": null,
      "metadata": {
        "colab": {
          "base_uri": "https://localhost:8080/"
        },
        "id": "cLSYV-dCVelc",
        "outputId": "1e1d3962-5585-4a81-cb4f-413869f6f992"
      },
      "outputs": [
        {
          "output_type": "stream",
          "name": "stdout",
          "text": [
            "True\n"
          ]
        }
      ],
      "source": [
        "#Write a function called is_sorted that takes a list as a parameter and returns True\n",
        "#if the list is sorted in ascending order and False otherwise.\n",
        "def is_sorted(lst):\n",
        "    if lst == sorted(lst):\n",
        "        return True\n",
        "    else:\n",
        "        return False\n",
        "result = is_sorted([1, 2, 3, 4, 5])\n",
        "print(result) \n"
      ]
    },
    {
      "cell_type": "code",
      "source": [
        "'''Write a function called has_duplicates that takes a list and returns True if there\n",
        "is any element that appears more than once. It should not modify the original list.\n",
        "i). Write a function called remove_duplicates that takes a list and returns a new list\n",
        "with only the unique elements from the original. Hint: they don’t have to be in the\n",
        "same order.'''\n",
        "def has_duplicates(lst):\n",
        "    if len(set(lst)) < len(lst):\n",
        "        return True\n",
        "    else:\n",
        "        return False\n",
        "def remove_duplicates(lst):\n",
        "    unique_lst = list(set(lst))\n",
        "    return unique_lst\n",
        "my_list = [1, 2, 3, 4, 5, 5, 6, 6, 7]\n",
        "result1 = has_duplicates(my_list)\n",
        "result2 = remove_duplicates(my_list)\n",
        "print(result1) \n",
        "print(result2)"
      ],
      "metadata": {
        "colab": {
          "base_uri": "https://localhost:8080/"
        },
        "id": "Ec-XsGh6WAWw",
        "outputId": "47bd4474-51dd-4683-d10b-f09a53d9d2da"
      },
      "execution_count": null,
      "outputs": [
        {
          "output_type": "stream",
          "name": "stdout",
          "text": [
            "True\n",
            "[1, 2, 3, 4, 5, 6, 7]\n",
            "True\n",
            "[1, 2, 3, 4, 5, 6, 7]\n"
          ]
        }
      ]
    },
    {
      "cell_type": "code",
      "source": [
        "#The wordlist I provided, words.txt, doesn’t contain single letter words. So you\n",
        "#might want to add “I”, “a”, and the empty string.\n",
        "def has_duplicates(lst):\n",
        "    lst.extend(['I', 'a', ''])\n",
        "    if len(set(lst)) < len(lst):\n",
        "        return True\n",
        "    else:\n",
        "        return False\n",
        "my_list = ['apple', 'banana', 'cherry', 'apple', 'banana']\n",
        "result = has_duplicates(my_list)\n",
        "print(result) \n"
      ],
      "metadata": {
        "colab": {
          "base_uri": "https://localhost:8080/"
        },
        "id": "xzWV3lOvXIJQ",
        "outputId": "b21a0252-a6d8-4ac4-d71d-e2d37a31c285"
      },
      "execution_count": null,
      "outputs": [
        {
          "output_type": "stream",
          "name": "stdout",
          "text": [
            "True\n"
          ]
        }
      ]
    },
    {
      "cell_type": "code",
      "source": [
        "#Write a python code to read dictionary values from the user. Construct a\n",
        "#function to invert its content. i.e., keys should be values and values should be keys.\n",
        "def invert_dict(d):\n",
        "    inverted = {}\n",
        "    for key, value in d.items():\n",
        "        if value in inverted:\n",
        "            inverted[value].append(key)\n",
        "        else:\n",
        "            inverted[value] = [key]\n",
        "    return inverted\n",
        "d = {}\n",
        "while True:\n",
        "    key = input(\"Enter a key (or 'done' to finish): \")\n",
        "    if key == 'done':\n",
        "        break\n",
        "    value = input(\"Enter a value: \")\n",
        "    d[key] = value\n",
        "inverted = invert_dict(d)\n",
        "print(\"Original dictionary:\", d)\n",
        "print(\"Inverted dictionary:\", inverted)\n"
      ],
      "metadata": {
        "colab": {
          "base_uri": "https://localhost:8080/"
        },
        "id": "H73b0GeqYMAU",
        "outputId": "c51b51d5-df07-40df-c588-3096f203ea7d"
      },
      "execution_count": null,
      "outputs": [
        {
          "output_type": "stream",
          "name": "stdout",
          "text": [
            "Enter a key (or 'done' to finish): we\n",
            "Enter a value: 23\n",
            "Enter a key (or 'done' to finish): e\n",
            "Enter a value: 24\n",
            "Enter a key (or 'done' to finish): done\n",
            "Original dictionary: {'we': '23', 'e': '24'}\n",
            "Inverted dictionary: {'23': ['we'], '24': ['e']}\n"
          ]
        }
      ]
    },
    {
      "cell_type": "code",
      "source": [
        "#Add a comma between the characters. If the given word is &#39;Apple&#39;, it should\n",
        "#become &#39;A,p,p,l,e&#39;\n",
        "def word(word):\n",
        "  result = \",\".join(word)\n",
        "word = input(\"Enter a word: \")\n",
        "print(result)\n"
      ],
      "metadata": {
        "colab": {
          "base_uri": "https://localhost:8080/"
        },
        "id": "NFnvlrHbZAuh",
        "outputId": "18ea587b-c5a5-4182-e7c6-7a949569e12c"
      },
      "execution_count": null,
      "outputs": [
        {
          "output_type": "stream",
          "name": "stdout",
          "text": [
            "Enter a word: apple\n",
            "a,p,p,l,e\n"
          ]
        }
      ]
    },
    {
      "cell_type": "code",
      "source": [
        "#Remove the given word in all the places in a string?\n",
        "def remove_word(text, word):\n",
        "    result = text.replace(word, \"\")\n",
        "    return result\n",
        "text = \"This is a test sentence. It contains the word test multiple times.\"\n",
        "word = \"test\"\n",
        "result = remove_word(text, word)\n",
        "print(result)\n"
      ],
      "metadata": {
        "colab": {
          "base_uri": "https://localhost:8080/"
        },
        "id": "8o1wnQAWZw-u",
        "outputId": "14861f47-ed14-4eba-8105-814ce0c6e605"
      },
      "execution_count": null,
      "outputs": [
        {
          "output_type": "stream",
          "name": "stdout",
          "text": [
            "This is a  sentence. It contains the word  multiple times.\n"
          ]
        }
      ]
    },
    {
      "cell_type": "code",
      "source": [
        "'''Write a function that takes a sentence as an input parameter and replaces the\n",
        "first letter of every word with the corresponding upper case letter and the rest of\n",
        "the letters in the word by corresponding letters in lower case without using a built-\n",
        "in function?'''\n",
        "def title_case(sentence):\n",
        "    sentence = sentence.lower()\n",
        "    words = sentence.split()\n",
        "    title_case_sentence = ' '.join([word[0].upper() + word[1:] for word in words])\n",
        "    return title_case_sentence\n",
        "sentence = \"tHIS IS a tEST sENTENCE.\"\n",
        "title_case_sentence = title_case(sentence)\n",
        "print(title_case_sentence)\n"
      ],
      "metadata": {
        "colab": {
          "base_uri": "https://localhost:8080/"
        },
        "id": "nvo7cxK9aRka",
        "outputId": "a70f6fed-7405-4b62-9a25-6022378b2b31"
      },
      "execution_count": null,
      "outputs": [
        {
          "output_type": "stream",
          "name": "stdout",
          "text": [
            "This Is A Test Sentence.\n"
          ]
        }
      ]
    },
    {
      "cell_type": "code",
      "source": [
        "#Writes a recursive function that generates all binary strings of n-bit length\n",
        "def generate_binary_strings(n):\n",
        "    if n == 0:\n",
        "        return ['']\n",
        "    prev_strings = generate_binary_strings(n-1)\n",
        "    return ['0' + s for s in prev_strings] + ['1' + s for s in prev_strings]\n",
        "n = 3\n",
        "binary_strings = generate_binary_strings(n)\n",
        "print(binary_strings)\n"
      ],
      "metadata": {
        "colab": {
          "base_uri": "https://localhost:8080/"
        },
        "id": "KoiyVBNIbPm8",
        "outputId": "a9aa97b8-0d9f-4783-849b-6ed22220fadf"
      },
      "execution_count": null,
      "outputs": [
        {
          "output_type": "stream",
          "name": "stdout",
          "text": [
            "['000', '001', '010', '011', '100', '101', '110', '111']\n"
          ]
        }
      ]
    }
  ]
}