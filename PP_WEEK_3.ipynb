{
  "nbformat": 4,
  "nbformat_minor": 0,
  "metadata": {
    "colab": {
      "provenance": [],
      "authorship_tag": "ABX9TyPoOwbJM/kEdA+cnebnOrP3",
      "include_colab_link": true
    },
    "kernelspec": {
      "name": "python3",
      "display_name": "Python 3"
    },
    "language_info": {
      "name": "python"
    }
  },
  "cells": [
    {
      "cell_type": "markdown",
      "metadata": {
        "id": "view-in-github",
        "colab_type": "text"
      },
      "source": [
        "<a href=\"https://colab.research.google.com/github/bhavyashree19/PYTHON_LAB/blob/main/PP_WEEK_3.ipynb\" target=\"_parent\"><img src=\"https://colab.research.google.com/assets/colab-badge.svg\" alt=\"Open In Colab\"/></a>"
      ]
    },
    {
      "cell_type": "code",
      "execution_count": null,
      "metadata": {
        "colab": {
          "base_uri": "https://localhost:8080/"
        },
        "id": "kfba_p1LOPM5",
        "outputId": "6d2ce5be-e730-4fd1-f659-819c0934713d"
      },
      "outputs": [
        {
          "output_type": "stream",
          "name": "stdout",
          "text": [
            "List array: [1 2 3 4 5]\n",
            "Tuple array: [ 6  7  8  9 10]\n"
          ]
        }
      ],
      "source": [
        "#Write a program to convert a list and tuple into arrays.\n",
        "import numpy as np\n",
        "my_list = [1, 2, 3, 4, 5]\n",
        "my_tuple = (6, 7, 8, 9, 10)\n",
        "my_list_array = np.array(my_list)\n",
        "my_tuple_array = np.array(my_tuple)\n",
        "print(\"List array:\", my_list_array)\n",
        "print(\"Tuple array:\", my_tuple_array)\n"
      ]
    },
    {
      "cell_type": "code",
      "source": [
        "#Write a program to find common values between two arrays.\n",
        "import numpy as np\n",
        "array1 = np.array([1, 2, 3, 4, 5])\n",
        "array2 = np.array([3, 5, 7, 9, 11])\n",
        "common_values = np.intersect1d(array1, array2)\n",
        "print(\"Common values:\", common_values)\n",
        "\n"
      ],
      "metadata": {
        "colab": {
          "base_uri": "https://localhost:8080/"
        },
        "id": "A9NXYJ1sOrPE",
        "outputId": "3b12b07a-f458-46b4-8dd8-38063f282a54"
      },
      "execution_count": null,
      "outputs": [
        {
          "output_type": "stream",
          "name": "stdout",
          "text": [
            "Common values: [3 5]\n"
          ]
        }
      ]
    },
    {
      "cell_type": "code",
      "source": [
        "#Write a function called gcd that takes parameters a and b and returns their\n",
        "#greatest common divisor.\n",
        "def gcd(a, b):\n",
        "    while b != 0:\n",
        "        temp = b\n",
        "        b = a % b\n",
        "        a = temp\n",
        "    return a\n",
        "result = gcd(18, 24)\n",
        "print(result) "
      ],
      "metadata": {
        "colab": {
          "base_uri": "https://localhost:8080/"
        },
        "id": "YY30bdDFO_sd",
        "outputId": "f7ff2662-7da7-4ddb-9d37-124f6d083995"
      },
      "execution_count": null,
      "outputs": [
        {
          "output_type": "stream",
          "name": "stdout",
          "text": [
            "6\n"
          ]
        }
      ]
    },
    {
      "cell_type": "code",
      "source": [
        "'''Write a function called palindrome that takes a string argument and returnsTrue\n",
        "if it is a palindrome and False otherwise. Remember that you can use the built-in\n",
        "function len to check the length of a string'''\n",
        "def palindrome(string):\n",
        "    string = string.replace(\" \", \"\").lower()\n",
        "    if string == string[::-1]:\n",
        "        return True\n",
        "    else:\n",
        "        return False\n",
        "result = palindrome(\"A man a plan a canal Panama\")\n",
        "print(result)\n"
      ],
      "metadata": {
        "colab": {
          "base_uri": "https://localhost:8080/"
        },
        "id": "GI2b6bzsPb-O",
        "outputId": "33035c32-1623-4d63-d7ad-3ef490f3f361"
      },
      "execution_count": null,
      "outputs": [
        {
          "output_type": "stream",
          "name": "stdout",
          "text": [
            "True\n"
          ]
        }
      ]
    }
  ]
}