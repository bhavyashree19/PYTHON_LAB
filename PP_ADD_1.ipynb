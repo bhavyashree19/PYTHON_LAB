{
  "nbformat": 4,
  "nbformat_minor": 0,
  "metadata": {
    "colab": {
      "provenance": [],
      "authorship_tag": "ABX9TyO7dwqMEIqMaZTMSjItjU9Z",
      "include_colab_link": true
    },
    "kernelspec": {
      "name": "python3",
      "display_name": "Python 3"
    },
    "language_info": {
      "name": "python"
    }
  },
  "cells": [
    {
      "cell_type": "markdown",
      "metadata": {
        "id": "view-in-github",
        "colab_type": "text"
      },
      "source": [
        "<a href=\"https://colab.research.google.com/github/bhavyashree19/PYTHON_LAB/blob/main/PP_ADD_1.ipynb\" target=\"_parent\"><img src=\"https://colab.research.google.com/assets/colab-badge.svg\" alt=\"Open In Colab\"/></a>"
      ]
    },
    {
      "cell_type": "code",
      "execution_count": null,
      "metadata": {
        "colab": {
          "base_uri": "https://localhost:8080/"
        },
        "id": "G3JjJtglHWZ2",
        "outputId": "15a78ccb-e6ce-4fe5-9e54-7223ed8c6fa0"
      },
      "outputs": [
        {
          "output_type": "stream",
          "name": "stdout",
          "text": [
            "Guess a number between 1 and 9: 6\n",
            "Sorry, the number was 9\n"
          ]
        }
      ],
      "source": [
        "#Write a Python program to guess a number between 1 and 9.(Hint:Use randint function from random)\n",
        "import random\n",
        "number = random.randint(1, 9)\n",
        "guess = int(input(\"Guess a number between 1 and 9: \"))\n",
        "if guess == number:\n",
        "    print(\"Congratulations, you guessed the number!\")\n",
        "else:\n",
        "    print(\"Sorry, the number was\", number)\n"
      ]
    },
    {
      "cell_type": "code",
      "source": [
        "#Write a Python program to print the type and id of a variable , delete a variable\n",
        "x = 42\n",
        "print(type(x))\n",
        "print(id(x))\n",
        "del x\n",
        "\n"
      ],
      "metadata": {
        "colab": {
          "base_uri": "https://localhost:8080/"
        },
        "id": "BEIMV_7_KWQ-",
        "outputId": "e34b1eff-4ad9-49cf-ebf0-6856d2e4b401"
      },
      "execution_count": null,
      "outputs": [
        {
          "output_type": "stream",
          "name": "stdout",
          "text": [
            "<class 'int'>\n",
            "140303933064720\n"
          ]
        }
      ]
    },
    {
      "cell_type": "code",
      "source": [
        "#Program to print all permutations of the word ‘CAT’\n",
        "from itertools import permutations\n",
        "word = 'CAT'\n",
        "perms = permutations(word)\n",
        "for perm in perms:\n",
        "    print(''.join(perm))\n"
      ],
      "metadata": {
        "colab": {
          "base_uri": "https://localhost:8080/"
        },
        "id": "zvmn8iS3Ldy1",
        "outputId": "340c1540-36c5-40f1-997c-291f3da36726"
      },
      "execution_count": null,
      "outputs": [
        {
          "output_type": "stream",
          "name": "stdout",
          "text": [
            "CAT\n",
            "CTA\n",
            "ACT\n",
            "ATC\n",
            "TCA\n",
            "TAC\n"
          ]
        }
      ]
    },
    {
      "cell_type": "code",
      "source": [
        "#Program to Print the calendar of given year and month\n",
        "import calendar\n",
        "year = int(input(\"Enter the year: \"))\n",
        "month = int(input(\"Enter the month (1-12): \"))\n",
        "print(calendar.month(year, month))\n"
      ],
      "metadata": {
        "colab": {
          "base_uri": "https://localhost:8080/"
        },
        "id": "cm8a1U4QMhSJ",
        "outputId": "00b18a0e-f4ac-4757-ab5c-1a203bf6596d"
      },
      "execution_count": null,
      "outputs": [
        {
          "output_type": "stream",
          "name": "stdout",
          "text": [
            "Enter the year: 2023\n",
            "Enter the month (1-12): 5\n",
            "      May 2023\n",
            "Mo Tu We Th Fr Sa Su\n",
            " 1  2  3  4  5  6  7\n",
            " 8  9 10 11 12 13 14\n",
            "15 16 17 18 19 20 21\n",
            "22 23 24 25 26 27 28\n",
            "29 30 31\n",
            "\n"
          ]
        }
      ]
    }
  ]
}